{
 "cells": [
  {
   "cell_type": "code",
   "execution_count": 1,
   "id": "3848923b",
   "metadata": {},
   "outputs": [],
   "source": [
    "import numpy as np\n",
    "import pandas as pd"
   ]
  },
  {
   "cell_type": "code",
   "execution_count": 2,
   "id": "429f9c3e",
   "metadata": {},
   "outputs": [],
   "source": [
    "def r1_squared(input_text):\n",
    "    \"\"\"\n",
    "    parses qchem with alpha and beta singles amplitudes,\n",
    "    to compute R1^2 = sum(|r_ia|^2) for all singles amplitudes\n",
    "    \"\"\"\n",
    "    in_alpha = False\n",
    "    in_beta = False\n",
    "    alpha_values = []\n",
    "    beta_values = []\n",
    "\n",
    "    for line in input_text.splitlines():\n",
    "        line = line.strip()\n",
    "        if not line:\n",
    "            continue\n",
    "        if line.startswith(\"Alpha Singles Amplitudes\"):\n",
    "            in_alpha = True\n",
    "            in_beta = False\n",
    "            continue\n",
    "        elif line.startswith(\"Beta\") and \"Singles Amplitudes\" in line:\n",
    "            in_beta = True\n",
    "            in_alpha = False\n",
    "            continue\n",
    "        elif line.startswith(\"I\") or line.startswith(\"---\"):\n",
    "            continue \n",
    "\n",
    "        parts = line.split()\n",
    "        if len(parts) == 5:\n",
    "            try:\n",
    "                value = float(parts[-1])\n",
    "                if in_alpha:\n",
    "                    alpha_values.append(value)\n",
    "                elif in_beta:\n",
    "                    beta_values.append(value)\n",
    "            except ValueError:\n",
    "                continue\n",
    "    print('alpha values', alpha_values)\n",
    "    print('beta values', beta_values)\n",
    "\n",
    "    r1_squared = sum(a**2 for a in alpha_values + beta_values)\n",
    "    return r1_squared\n",
    "\n",
    "def r2_squared(input_text):\n",
    "    \"\"\"\n",
    "    parses qchem .log output with doubles amplitudes (any spin type),\n",
    "    and computes R2^2 = sum(|r_ij^ab|^2)\n",
    "\n",
    "    \"\"\"\n",
    "    r2_values = []\n",
    "\n",
    "    for line in input_text.splitlines():\n",
    "        line = line.strip()\n",
    "        if not line or line.startswith((\"I\", \"Alpha\", \"Beta\", \"-\", \"*\")):\n",
    "            continue  # skip headers or empty lines\n",
    "\n",
    "        parts = line.split()\n",
    "        if len(parts) >= 9:\n",
    "            try:\n",
    "                value = float(parts[-1])\n",
    "                r2_values.append(value)\n",
    "            except ValueError:\n",
    "                continue\n",
    "    \n",
    "#    print('r2 values', r2_values)\n",
    "    \n",
    "    r2_squared = sum(val**2 for val in r2_values)\n",
    "    return r2_squared"
   ]
  },
  {
   "cell_type": "code",
   "execution_count": 5,
   "id": "d61cf9bb",
   "metadata": {},
   "outputs": [
    {
     "name": "stdout",
     "output_type": "stream",
     "text": [
      "alpha values [-0.043173, -0.039147, -0.011883, 0.021652, -0.014597, 0.655939, 0.168728, -0.017065, -0.032613]\n",
      "beta values [0.043173, 0.039147, 0.011883, -0.021652, 0.014597, -0.655939, -0.168728, 0.017065, 0.032613]\n",
      "R1^2 = 0.928599\n"
     ]
    }
   ],
   "source": [
    "r1_input = '''\n",
    " Alpha Singles Amplitudes\n",
    "     I    SymI    A    SymA    Value\n",
    "    14      3    15      2   -0.674810\n",
    "    14      3    29      2    0.088381\n",
    "    13      8    42      5   -0.015951\n",
    " Beta  Singles Amplitudes\n",
    "     I    SymI    A    SymA    Value\n",
    "    14      3    15      2    0.674810\n",
    "    14      3    29      2   -0.088381\n",
    "    13      8    42      5    0.015951\n",
    "    '''\n",
    "\n",
    "r1_sq = r1_squared(r1_input)\n",
    "print(f\"R1^2 = {r1_sq:.6f}\")\n"
   ]
  },
  {
   "cell_type": "code",
   "execution_count": 6,
   "id": "4e8880ab",
   "metadata": {},
   "outputs": [
    {
     "name": "stdout",
     "output_type": "stream",
     "text": [
      "R2^2 = 0.026428\n"
     ]
    }
   ],
   "source": [
    "r2_input = '''\n",
    "\n",
    "'''\n",
    "\n",
    "\n",
    "r2_sq = r2_squared(r2_input)\n",
    "print(f\"R2^2 = {r2_sq:.6f}\")"
   ]
  },
  {
   "cell_type": "code",
   "execution_count": null,
   "id": "4387d460",
   "metadata": {},
   "outputs": [],
   "source": []
  }
 ],
 "metadata": {
  "kernelspec": {
   "display_name": "Python 3 (ipykernel)",
   "language": "python",
   "name": "python3"
  },
  "language_info": {
   "codemirror_mode": {
    "name": "ipython",
    "version": 3
   },
   "file_extension": ".py",
   "mimetype": "text/x-python",
   "name": "python",
   "nbconvert_exporter": "python",
   "pygments_lexer": "ipython3",
   "version": "3.12.6"
  }
 },
 "nbformat": 4,
 "nbformat_minor": 5
}
